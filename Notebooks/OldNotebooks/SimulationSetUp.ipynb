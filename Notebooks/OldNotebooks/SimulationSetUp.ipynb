{
 "cells": [
  {
   "cell_type": "code",
   "execution_count": 1,
   "metadata": {},
   "outputs": [],
   "source": [
    "import matplotlib.pyplot as plt\n",
    "import numpy as np\n",
    "import xarray as xr\n",
    "#import cv2\n",
    "import matplotlib.patches as patches\n",
    "from mpl_toolkits.basemap import Basemap\n",
    "import os\n",
    "#import gsw\n",
    "\n",
    "plt.rcParams['text.usetex'] = True\n",
    "plt.rcParams.update({'font.size': 22})\n",
    "plt.rcParams['mathtext.fontset'] = 'stix'\n",
    "plt.rcParams['font.family'] = 'STIXGeneral'"
   ]
  },
  {
   "cell_type": "code",
   "execution_count": 15,
   "metadata": {},
   "outputs": [],
   "source": [
    "# Load files (concatenate across all files)\n",
    "filelocation = '/data/thomas/bdelorme/PACBIG/'\n",
    "dspacbig = xr.open_mfdataset(filelocation+'*his*.nc', concat_dim='time',data_vars='minimal')\n",
    "pacbigyearday = np.mod(dspacbig.ocean_time/86400, 360)\n",
    "\n"
   ]
  },
  {
   "cell_type": "markdown",
   "metadata": {},
   "source": [
    "WSHARK will run from July 1 year 7 through Sept 1 year 9\n",
    "\n",
    "then\n",
    "\n",
    "MSHARK will run from July 1 year 8 through Sept 1 year 9"
   ]
  },
  {
   "cell_type": "code",
   "execution_count": 97,
   "metadata": {},
   "outputs": [
    {
     "data": {
      "text/plain": [
       "7.5"
      ]
     },
     "execution_count": 97,
     "metadata": {},
     "output_type": "execute_result"
    }
   ],
   "source": [
    "# Find starting file (this is slightly before July 1, yearday 150).\n",
    "filelocation = '/data/thomas/bdelorme/PACBIG/'\n",
    "pac1 = xr.open_dataset(filelocation+'pacbig_his.0534.nc') # Start at beg of July (actually mid June)\n",
    "pac1.ocean_time.values[3]/86400/360 # Initialization day of WHITESHARK\n",
    "#np.mod(pac1.ocean_time/86400, 360)[3] \n"
   ]
  },
  {
   "cell_type": "code",
   "execution_count": 95,
   "metadata": {},
   "outputs": [
    {
     "data": {
      "text/plain": [
       "9.777777777777779"
      ]
     },
     "execution_count": 95,
     "metadata": {},
     "output_type": "execute_result"
    }
   ],
   "source": [
    "# Find ending file\n",
    "#Sept 1 is yearday 240 and is 2/3 of a year\n",
    "# therefore looking for year 9.66\n",
    "\n",
    "pac1 = xr.open_dataset(filelocation+'pacbig_his.0696.nc') # Start at beg of July (actually mid June)\n",
    "pac1.ocean_time.values[-1]/86400/360 # Initialization day of WHITESHARK\n",
    "#np.mod(pac1.ocean_time/86400, 360)[-1] \n"
   ]
  },
  {
   "cell_type": "markdown",
   "metadata": {},
   "source": [
    "Determine the right starting point and duration for MSHARK"
   ]
  },
  {
   "cell_type": "code",
   "execution_count": 102,
   "metadata": {},
   "outputs": [
    {
     "data": {
      "text/plain": [
       "<xarray.DataArray 'scrum_time' ()>\n",
       "array(180.)\n",
       "Coordinates:\n",
       "    time     float32 264384000.0"
      ]
     },
     "execution_count": 102,
     "metadata": {},
     "output_type": "execute_result"
    }
   ],
   "source": [
    "# Find starting file (this is slightly before July 1, yearday 150).\n",
    "filelocation = '/data/thomas/jacob13/WHITESHARKCAFE/WSHARK/'\n",
    "ws1 = xr.open_dataset(filelocation+'wshark_his.0180.nc') # Start at beg of July (actually mid June)\n",
    "ws1.scrum_time.values[0]/86400/360 # Initialization day of WHITESHARK\n",
    "np.mod(ws1.scrum_time/86400, 360)[0] "
   ]
  },
  {
   "cell_type": "code",
   "execution_count": 33,
   "metadata": {},
   "outputs": [],
   "source": [
    "file = '/data/thomas/jacob13/WHITESHARKCAFE/WHITESHARK/whiteshark_grd.nc'\n",
    "whitesharkgrid = xr.open_dataset(file)\n",
    "\n",
    "# Load files (concatenate across all files)\n",
    "filelocation = '/data/thomas/jacob13/WHITESHARKCAFE/WHITESHARK/'\n",
    "dswhiteshark= xr.open_mfdataset(filelocation+'whiteshark_his*.nc', concat_dim='time', data_vars='minimal', compat='equals')\n",
    "#dschesa= xr.open_dataset(filelocation+'chesa2_his.0096.nc')\n",
    "whitesharkyearday = np.mod(dswhiteshark.scrum_time/86400, 360)\n",
    "\n",
    "w1 = xr.open_dataset(filelocation+'Exclude_whiteshark_his.0000.nc')"
   ]
  },
  {
   "cell_type": "code",
   "execution_count": 29,
   "metadata": {},
   "outputs": [
    {
     "data": {
      "text/plain": [
       "3075.0"
      ]
     },
     "execution_count": 29,
     "metadata": {},
     "output_type": "execute_result"
    }
   ],
   "source": [
    "dswhiteshark.scrum_time.values[0]/86400\n",
    "w1.scrum_time.values[0]/86400 # very first timestep"
   ]
  },
  {
   "cell_type": "code",
   "execution_count": 52,
   "metadata": {},
   "outputs": [
    {
     "data": {
      "text/plain": [
       "195.0"
      ]
     },
     "execution_count": 52,
     "metadata": {},
     "output_type": "execute_result"
    }
   ],
   "source": [
    "whitesharkyearday.values[0]-10\n",
    "#whitesharkyearday.values[-1] -whitesharkyearday.values[0]+10"
   ]
  },
  {
   "cell_type": "code",
   "execution_count": 31,
   "metadata": {},
   "outputs": [],
   "source": [
    "filelocation = '/data/thomas/jacob13/WHITESHARKCAFE/MSHARKNP/'\n",
    "M1 = xr.open_dataset(filelocation+'Exclude_mshark_his.0000.nc')"
   ]
  },
  {
   "cell_type": "code",
   "execution_count": 32,
   "metadata": {},
   "outputs": [
    {
     "data": {
      "text/plain": [
       "3085.0"
      ]
     },
     "execution_count": 32,
     "metadata": {},
     "output_type": "execute_result"
    }
   ],
   "source": [
    "M1.scrum_time.values[0]/86400"
   ]
  },
  {
   "cell_type": "code",
   "execution_count": 37,
   "metadata": {},
   "outputs": [
    {
     "data": {
      "text/plain": [
       "-122.33940439065675"
      ]
     },
     "execution_count": 37,
     "metadata": {},
     "output_type": "execute_result"
    }
   ],
   "source": [
    "np.max(whitesharkgrid.lon_rho.values)"
   ]
  },
  {
   "cell_type": "code",
   "execution_count": 42,
   "metadata": {},
   "outputs": [
    {
     "data": {
      "text/plain": [
       "14.8"
      ]
     },
     "execution_count": 42,
     "metadata": {},
     "output_type": "execute_result"
    }
   ],
   "source": [
    "(360+84)/30"
   ]
  },
  {
   "cell_type": "code",
   "execution_count": 43,
   "metadata": {},
   "outputs": [],
   "source": [
    "# Load MSHARK grid file\n",
    "file = '/data/thomas/jacob13/WHITESHARKCAFE/MSHARKNP/mshark_grd.nc'\n",
    "msharkgrid = xr.open_dataset(file)\n",
    "\n",
    "# Load files (concatenate across all files)\n",
    "filelocation = '/data/thomas/jacob13/WHITESHARKCAFE/MSHARKNP/'\n",
    "dsmshark= xr.open_mfdataset(filelocation+'mshark_his*.nc', concat_dim='time', data_vars='minimal', compat='equals')\n",
    "#dsmshark = xr.open_dataset(filelocation+'mshark_his.0000.nc')\n",
    "msharkyearday = np.mod(dsmshark.scrum_time/86400, 360)"
   ]
  },
  {
   "cell_type": "code",
   "execution_count": 50,
   "metadata": {},
   "outputs": [
    {
     "data": {
      "text/plain": [
       "-128.18825386669405"
      ]
     },
     "execution_count": 50,
     "metadata": {},
     "output_type": "execute_result"
    }
   ],
   "source": [
    "np.max(msharkgrid.lon_rho.values)\n",
    "#np.min(msharkgrid.lon_rho.values)"
   ]
  },
  {
   "cell_type": "code",
   "execution_count": 51,
   "metadata": {},
   "outputs": [
    {
     "data": {
      "text/plain": [
       "3095.0"
      ]
     },
     "execution_count": 51,
     "metadata": {},
     "output_type": "execute_result"
    }
   ],
   "source": [
    "dsmshark.scrum_time.values[0]/86400"
   ]
  },
  {
   "cell_type": "code",
   "execution_count": 55,
   "metadata": {},
   "outputs": [
    {
     "data": {
      "text/plain": [
       "14.433333333333334"
      ]
     },
     "execution_count": 55,
     "metadata": {},
     "output_type": "execute_result"
    }
   ],
   "source": [
    "(msharkyearday.values[-1] -msharkyearday.values[0]+10 + 360)/30"
   ]
  },
  {
   "cell_type": "code",
   "execution_count": null,
   "metadata": {},
   "outputs": [],
   "source": []
  }
 ],
 "metadata": {
  "kernelspec": {
   "display_name": "Python 3",
   "language": "python",
   "name": "python3"
  },
  "language_info": {
   "codemirror_mode": {
    "name": "ipython",
    "version": 3
   },
   "file_extension": ".py",
   "mimetype": "text/x-python",
   "name": "python",
   "nbconvert_exporter": "python",
   "pygments_lexer": "ipython3",
   "version": "3.6.10"
  }
 },
 "nbformat": 4,
 "nbformat_minor": 2
}
